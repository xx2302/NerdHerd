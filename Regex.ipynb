{
 "cells": [
  {
   "cell_type": "markdown",
   "metadata": {},
   "source": [
    "<subject>\n",
    "Homework How-To\n",
    "</subject>\n",
    "\n",
    "<details>\n",
    "\n",
    "**Naming Conventions**\n",
    "\n",
    "When naming your files for upload, you must follow the format below:\n",
    "\n",
    "    <uni>_<assignment>_<details [optional]>.<extension>\n",
    "\n",
    "For example, if I needed to hand in HW 0, any of the below formats would be sufficient for a file name:\n",
    "\n",
    "- pl2648_hw0.txt\n",
    "- pl2648_hw0.sh\n",
    "- pl2648_hw0_all_in_one.txt\n",
    "- Pl2648_hw0_bash_program.sh\n",
    "\n",
    "This naming format allows for autograding of all assignments. If your files are not named with this format, you should expect a grade of zero for the assignment.\n",
    "\n",
    "**Grading**\n",
    "\n",
    "Possible points on late homeworks are deducted by 50% for each day they are late. For example, if you get 80% of the total possible credits on a homework but hand in that homework a day late, you would get 40%. Assignments two days late get zero points.\n",
    "\n",
    "Once solutions are posted and graded assignments are handed back, students have 1 week to bring their grading discrepancies to a CA for consideration of possible grading errors. \n",
    "\n",
    "**Getting Help**\n",
    "\n",
    "Asking for help is a great way to increase your chance of success. However there are some rules. When asking for help (especially from a fellow student), *you can show your helper your code but you can not view theirs*. You work needs to be your own. \n",
    "\n",
    "If you need to reach out to a CA or the Professor for help, please do so via Piazza and not via email. Answers given via Piazza will help you as well as other students. Thus, emails will always have a lower priority for response than Piazza questions. If you do email the professor or TA, please make a note of what section you are in. This helps us identify you in courseworks faster.\n",
    "</details>"
   ]
  },
  {
   "cell_type": "markdown",
   "metadata": {},
   "source": [
    "**Q**: Build a function to return a regex expression. The expression, when passed to the appropriate `re` function, should find all of the dates of the format YYYY-MM-DD in the in following string.\n",
    "\n",
    "```python\n",
    ">>> string = \"\"\"\n",
    "2010-04-29 1984 ABC-123!\n",
    "Feb 18th, 2018. \n",
    "888-27-8949 2048-07-07\n",
    "\"\"\"\n",
    "\n",
    ">>> pattern = get_pattern()\n",
    ">>> func = get_function()\n",
    ">>> func(pattern, string)\n",
    "['2010-04-29', '2048-07-07']\n",
    "```\n",
    "\n",
    "[1 point]"
   ]
  },
  {
   "cell_type": "code",
   "execution_count": null,
   "metadata": {
    "deletable": false,
    "nbgrader": {
     "checksum": "ebd9ff1237689a2d6c2df10dbf8085e7",
     "grade": false,
     "grade_id": "cell-191bb99330f39907",
     "locked": false,
     "schema_version": 1,
     "solution": true
    }
   },
   "outputs": [],
   "source": [
    "import re\n",
    "\n",
    "def get_pattern():\n",
    "    # YOUR CODE HERE\n",
    "    raise NotImplementedError()\n",
    "\n",
    "def get_function():\n",
    "    # YOUR CODE HERE\n",
    "    raise NotImplementedError()"
   ]
  },
  {
   "cell_type": "code",
   "execution_count": null,
   "metadata": {
    "deletable": false,
    "editable": false,
    "nbgrader": {
     "checksum": "7577962a93526223f46d2741f6d5a748",
     "grade": true,
     "grade_id": "cell-7c5fc12bf1bedd77",
     "locked": true,
     "points": 0.25,
     "schema_version": 1,
     "solution": false
    }
   },
   "outputs": [],
   "source": []
  },
  {
   "cell_type": "code",
   "execution_count": null,
   "metadata": {
    "deletable": false,
    "editable": false,
    "nbgrader": {
     "checksum": "a388a5b262b91e49b500115e7e19519e",
     "grade": true,
     "grade_id": "cell-37f7551c7035fb27",
     "locked": true,
     "points": 0.5,
     "schema_version": 1,
     "solution": false
    }
   },
   "outputs": [],
   "source": [
    "### BEGIN TESTS\n",
    "string = \"\"\"\n",
    "2010-04-29 1984 ABC-123!\n",
    "Feb 18th, 2018. \n",
    "888-27-8949 2048-07-07\n",
    "12048-07-074\n",
    "\"\"\"\n",
    "\n",
    "pattern = get_pattern()\n",
    "func = get_function()\n",
    "result = func(pattern, string)\n",
    "\n",
    "assert result == ['2010-04-29', '2048-07-07'], result\n",
    "### END TESTS"
   ]
  },
  {
   "cell_type": "code",
   "execution_count": null,
   "metadata": {
    "deletable": false,
    "editable": false,
    "nbgrader": {
     "checksum": "08290d5f83b97fc5b58f84f6ded3cc9c",
     "grade": true,
     "grade_id": "cell-7719cc19d23054ae",
     "locked": true,
     "points": 0.25,
     "schema_version": 1,
     "solution": false
    }
   },
   "outputs": [],
   "source": []
  },
  {
   "cell_type": "markdown",
   "metadata": {
    "deletable": false,
    "editable": false,
    "nbgrader": {
     "checksum": "8d0f4c102a2c3036e3f5ebfd0f4f1c0a",
     "grade": false,
     "grade_id": "cell-05d0a1b6701d4184",
     "locked": true,
     "schema_version": 1,
     "solution": false
    }
   },
   "source": [
    "**Q**: Write a function that takes a string like the following and returns a match object if a match is possible. \n",
    "\n",
    "    '2018 Mar 24 02:41:00 AM'\n",
    "\n",
    "The match object should have the following named groups:\n",
    "\n",
    "    - year\n",
    "    - month_name\n",
    "    - day\n",
    "    - hour\n",
    "    - minute\n",
    "    - second\n",
    "    - meridiem\n",
    "    \n",
    "For example, the output of ...\n",
    "\n",
    "```python\n",
    "match = pattern.match('2018 Mar 24 02:41:00 AM')\n",
    "print('MATCH', match, sep=': ')\n",
    "print('GROUPS', match.groups(), sep=': ')\n",
    "\n",
    "for name in ('year', 'month_name', 'day', 'hour', 'minute', 'second', 'meridiem'):\n",
    "    print(name.upper(), match.group(name), sep=': ')\n",
    " ```\n",
    "where `pattern` is the compiled regex expression should be:\n",
    "\n",
    "    MATCH: <_sre.SRE_Match object; span=(0, 23), match='2018 Mar 24 02:41:00 AM'>\n",
    "    GROUPS: ('2018', 'Mar', '24', '02', '41', '00', 'AM')\n",
    "    YEAR: 2018\n",
    "    MONTH_NAME: Mar\n",
    "    DAY: 24\n",
    "    HOUR: 02\n",
    "    MINUTE: 41\n",
    "    SECOND: 00\n",
    "    MERIDIEM: AM\n",
    "    \n",
    "\n",
    "[2 points]"
   ]
  },
  {
   "cell_type": "code",
   "execution_count": null,
   "metadata": {
    "deletable": false,
    "nbgrader": {
     "checksum": "0a79bd5182cbb8d2da82f42ef9ef682a",
     "grade": false,
     "grade_id": "cell-be554692bfc729a9",
     "locked": false,
     "schema_version": 1,
     "solution": true
    }
   },
   "outputs": [],
   "source": [
    "import re\n",
    "\n",
    "def get_match_object(string):\n",
    "    # YOUR CODE HERE\n",
    "    raise NotImplementedError()"
   ]
  },
  {
   "cell_type": "code",
   "execution_count": null,
   "metadata": {
    "deletable": false,
    "editable": false,
    "nbgrader": {
     "checksum": "9c1d669f3f9d52a53b9cb5d2d0a51eb3",
     "grade": true,
     "grade_id": "cell-20885ead6e5a1fac",
     "locked": true,
     "points": 0.25,
     "schema_version": 1,
     "solution": false
    }
   },
   "outputs": [],
   "source": [
    "### BEGIN TESTS\n",
    "match = get_match_object('2018 Mar 24 02:41:00 AM')\n",
    "assert match.group('year') == '2018'\n",
    "### END TESTS"
   ]
  },
  {
   "cell_type": "code",
   "execution_count": null,
   "metadata": {
    "deletable": false,
    "editable": false,
    "nbgrader": {
     "checksum": "4894c8dbb299eab7deec8e36aaa091fd",
     "grade": true,
     "grade_id": "cell-d65adb32954b254a",
     "locked": true,
     "points": 0.25,
     "schema_version": 1,
     "solution": false
    }
   },
   "outputs": [],
   "source": [
    "### BEGIN TESTS\n",
    "match = get_match_object('2018 Mar 24 02:41:00 AM')\n",
    "assert match.group('month_name') == 'Mar'\n",
    "### END TESTS"
   ]
  },
  {
   "cell_type": "code",
   "execution_count": null,
   "metadata": {
    "deletable": false,
    "editable": false,
    "nbgrader": {
     "checksum": "8cc6287a550b2b16420a3cd3360ed8c5",
     "grade": true,
     "grade_id": "cell-64860e1dd88fbc1d",
     "locked": true,
     "points": 0.25,
     "schema_version": 1,
     "solution": false
    }
   },
   "outputs": [],
   "source": [
    "### BEGIN TESTS\n",
    "match = get_match_object('2018 Mar 24 02:41:00 AM')\n",
    "assert match.group('day') == '24'\n",
    "### END TESTS"
   ]
  },
  {
   "cell_type": "code",
   "execution_count": null,
   "metadata": {
    "deletable": false,
    "editable": false,
    "nbgrader": {
     "checksum": "f53a80f89d121b9391200df5ad97bd40",
     "grade": true,
     "grade_id": "cell-47661529f963e201",
     "locked": true,
     "points": 0.25,
     "schema_version": 1,
     "solution": false
    }
   },
   "outputs": [],
   "source": [
    "### BEGIN TESTS\n",
    "match = get_match_object('2018 Mar 24 02:41:00 AM')\n",
    "assert match.group('hour') == '02'\n",
    "### END TESTS"
   ]
  },
  {
   "cell_type": "code",
   "execution_count": null,
   "metadata": {
    "deletable": false,
    "editable": false,
    "nbgrader": {
     "checksum": "9f38e2a8362bb64527efbbfe1f93a495",
     "grade": true,
     "grade_id": "cell-2e203308d6349075",
     "locked": true,
     "points": 0.25,
     "schema_version": 1,
     "solution": false
    }
   },
   "outputs": [],
   "source": [
    "### BEGIN TESTS\n",
    "match = get_match_object('2018 Mar 24 02:41:00 AM')\n",
    "assert match.group('minute') == '41'\n",
    "### END TESTS"
   ]
  },
  {
   "cell_type": "code",
   "execution_count": null,
   "metadata": {
    "deletable": false,
    "editable": false,
    "nbgrader": {
     "checksum": "aa4c1d00b661e0104cc0c50484cb1b62",
     "grade": true,
     "grade_id": "cell-51337e5d0dacb4ad",
     "locked": true,
     "points": 0.25,
     "schema_version": 1,
     "solution": false
    }
   },
   "outputs": [],
   "source": [
    "### BEGIN TESTS\n",
    "match = get_match_object('2018 Mar 24 02:41:00 AM')\n",
    "assert match.group('second') == '00'\n",
    "### END TESTS"
   ]
  },
  {
   "cell_type": "code",
   "execution_count": null,
   "metadata": {
    "deletable": false,
    "editable": false,
    "nbgrader": {
     "checksum": "ed3002d32c01e5982adc390952650724",
     "grade": true,
     "grade_id": "cell-d49f5d2076486460",
     "locked": true,
     "points": 0.25,
     "schema_version": 1,
     "solution": false
    }
   },
   "outputs": [],
   "source": [
    "### BEGIN TESTS\n",
    "match = get_match_object('2018 Mar 24 02:41:00 AM')\n",
    "assert match.group('meridiem') == 'AM'\n",
    "### END TESTS"
   ]
  },
  {
   "cell_type": "code",
   "execution_count": null,
   "metadata": {
    "deletable": false,
    "editable": false,
    "nbgrader": {
     "checksum": "dea150acf0143e1ddb26c901ed9e6695",
     "grade": true,
     "grade_id": "cell-d5f2c2c1e38f1be6",
     "locked": true,
     "points": 0.25,
     "schema_version": 1,
     "solution": false
    }
   },
   "outputs": [],
   "source": []
  },
  {
   "cell_type": "markdown",
   "metadata": {},
   "source": [
    "**Q**: NYC publishes 311 call reports for public review. A specific slice of that data has been made available at the following link:\n",
    "\n",
    "https://data.cityofnewyork.us/Social-Services/311-11-19-2018-/6ir3-7kwf/data\n",
    "\n",
    "Download the CSV of this data.\n",
    "\n",
    "Using the `re` module, find the number at the beginning of each \"Incident Address\". \n",
    "\n",
    "For \"17 WEST 74 STREET\" the number would be 17, for \"88-28 74 PLACE\" the number would be 88-28. Ignore addresses that are empty strings. If the street number is 123A, consider the number to be 123. \n",
    "\n",
    "If the number is a hyphenated number, peform the subtraction (ie. 88-28 = 60). Sum up all of the results of the hyphenated addresses. (ie. 60 + (24-11) + ...)\n",
    "\n",
    "Sum up all the un-hyphenated addresses.\n",
    "\n",
    "Return the pair as a tuple from the function provided. The function should take the absolute path to the CSV file.\n",
    "\n",
    "[2 points]"
   ]
  },
  {
   "cell_type": "code",
   "execution_count": null,
   "metadata": {
    "deletable": false,
    "nbgrader": {
     "checksum": "6b7a79cb01f7f2b13c31cc341dea807c",
     "grade": false,
     "grade_id": "cell-0b8c920f2ed2ebfc",
     "locked": false,
     "schema_version": 1,
     "solution": true
    }
   },
   "outputs": [],
   "source": [
    "# YOUR CODE HERE\n",
    "raise NotImplementedError()\n",
    "\n",
    "\n",
    "def get_address_sums(path: str) -> (int, int):\n",
    "    # YOUR CODE HERE\n",
    "    raise NotImplementedError()\n",
    "    return (unhyphenated, hyphenated)"
   ]
  },
  {
   "cell_type": "code",
   "execution_count": null,
   "metadata": {
    "deletable": false,
    "editable": false,
    "nbgrader": {
     "checksum": "8781bc6728d4448b1c2d561008f6c93e",
     "grade": true,
     "grade_id": "cell-695afe2438cf8f12",
     "locked": true,
     "points": 0,
     "schema_version": 1,
     "solution": false
    }
   },
   "outputs": [],
   "source": []
  },
  {
   "cell_type": "code",
   "execution_count": null,
   "metadata": {
    "deletable": false,
    "editable": false,
    "nbgrader": {
     "checksum": "4daf1fae6f33118a8bf238b13fde4d4d",
     "grade": true,
     "grade_id": "cell-7ab2046a0323a2a7",
     "locked": true,
     "points": 1,
     "schema_version": 1,
     "solution": false
    }
   },
   "outputs": [],
   "source": []
  },
  {
   "cell_type": "code",
   "execution_count": null,
   "metadata": {
    "deletable": false,
    "editable": false,
    "nbgrader": {
     "checksum": "ef5eda41d970dddf01f4fef7cf3c26d0",
     "grade": true,
     "grade_id": "cell-3d7a0349af2c6f3f",
     "locked": true,
     "points": 1,
     "schema_version": 1,
     "solution": false
    }
   },
   "outputs": [],
   "source": []
  }
 ],
 "metadata": {
  "kernelspec": {
   "display_name": "Python 3",
   "language": "python",
   "name": "python3"
  },
  "language_info": {
   "codemirror_mode": {
    "name": "ipython",
    "version": 3
   },
   "file_extension": ".py",
   "mimetype": "text/x-python",
   "name": "python",
   "nbconvert_exporter": "python",
   "pygments_lexer": "ipython3",
   "version": "3.7.0"
  }
 },
 "nbformat": 4,
 "nbformat_minor": 2
}
