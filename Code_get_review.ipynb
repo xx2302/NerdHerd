{
 "cells": [
  {
   "cell_type": "code",
   "execution_count": 1,
   "metadata": {},
   "outputs": [],
   "source": [
    "import requests\n",
    "from bs4 import BeautifulSoup"
   ]
  },
  {
   "cell_type": "code",
   "execution_count": 2,
   "metadata": {},
   "outputs": [],
   "source": [
    "def get_audience_reviews(film_name):\n",
    "    audience_review_list = []\n",
    "    for page in range(10):      #get reviews on first 10 pages\n",
    "        url = \"https://www.rottentomatoes.com/m/%s/reviews/?page=%s&type=user&sort=\" % (film_name, str(page+1))\n",
    "        response = requests.get(url)\n",
    "        if not response.status_code == 200:\n",
    "            break\n",
    "        results_page = BeautifulSoup(response.content,'lxml')\n",
    "        list_ = results_page.find_all('div', {'class':'user_review'})\n",
    "        for review in list_: \n",
    "            audience_review_list.append(review.get_text())\n",
    "    return audience_review_list"
   ]
  },
  {
   "cell_type": "code",
   "execution_count": null,
   "metadata": {},
   "outputs": [],
   "source": []
  }
 ],
 "metadata": {
  "kernelspec": {
   "display_name": "Python 3",
   "language": "python",
   "name": "python3"
  },
  "language_info": {
   "codemirror_mode": {
    "name": "ipython",
    "version": 3
   },
   "file_extension": ".py",
   "mimetype": "text/x-python",
   "name": "python",
   "nbconvert_exporter": "python",
   "pygments_lexer": "ipython3",
   "version": "3.7.0"
  }
 },
 "nbformat": 4,
 "nbformat_minor": 2
}
